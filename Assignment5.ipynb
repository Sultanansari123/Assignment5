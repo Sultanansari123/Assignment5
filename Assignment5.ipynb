{
 "cells": [
  {
   "cell_type": "code",
   "execution_count": 27,
   "id": "b0c9df23-eaf0-42c1-87b1-b8bf210ae617",
   "metadata": {},
   "outputs": [
    {
     "name": "stdout",
     "output_type": "stream",
     "text": [
      "sultan\n",
      "20\n",
      "12345\n"
     ]
    }
   ],
   "source": [
    "#Ans1->class is a blueprint for creating object,to create of class used by 'class' keyword\n",
    "      #object is the real time entity ,almmost everything in python is an object,with its properties and method\n",
    "class student:\n",
    "    def __init__(self,name,age,roll_no):\n",
    "        self.name=name\n",
    "        self.age=age\n",
    "        self.roll_no=roll_no\n",
    "std1=student(\"sultan\",20,12345)\n",
    "print(std1.name)\n",
    "print(std1.age)\n",
    "print(std1.roll_no)"
   ]
  },
  {
   "cell_type": "code",
   "execution_count": 28,
   "id": "8b8aad2f-eb9f-4634-95dd-204727146fa1",
   "metadata": {},
   "outputs": [],
   "source": [
    "#Ans2->four pillars of OOPS\n",
    "#Abstraction\n",
    "#Polymorphism\n",
    "#encapsulation\n",
    "#inheritance"
   ]
  },
  {
   "cell_type": "code",
   "execution_count": 29,
   "id": "8894d6f7-d2a3-40a6-9a23-b2f43316b899",
   "metadata": {},
   "outputs": [
    {
     "name": "stdout",
     "output_type": "stream",
     "text": [
      "23\n"
     ]
    }
   ],
   "source": [
    "#Ans3->init function is a constructor when object is created then function is automatically called .\n",
    "#the main purpose of use init fuction putting the data into class variable.\n",
    "class class_1:\n",
    "    def __init__(self,a):\n",
    "        self.a=a\n",
    "obj=class_1(23)\n",
    "print(obj.a)"
   ]
  },
  {
   "cell_type": "code",
   "execution_count": 30,
   "id": "5b69e021-c6e3-4057-b250-83282c1b4c70",
   "metadata": {},
   "outputs": [],
   "source": [
    "#Ans4->self is a pointer to boinding variable or function to the current class or self is a current denoted called to this fxn."
   ]
  },
  {
   "cell_type": "code",
   "execution_count": 31,
   "id": "195e5674-7a91-47d7-8dfe-04b0f838f81c",
   "metadata": {},
   "outputs": [],
   "source": [
    "#Ans4->child class aquires all the properties and method to the parent class called inheritance.\n",
    "#sigle inheritance\n",
    "class parent:\n",
    "    def __init__(self):\n",
    "        print(\"parent class\")\n",
    "    def hello(self):\n",
    "        print(\"hello parent\")\n",
    "class child(parent):\n",
    "    pass\n"
   ]
  },
  {
   "cell_type": "code",
   "execution_count": 32,
   "id": "7a8ef6b1-6ffb-4f20-8e83-6f9758d07155",
   "metadata": {},
   "outputs": [
    {
     "name": "stdout",
     "output_type": "stream",
     "text": [
      "parent class\n",
      "hello parent\n",
      "None\n"
     ]
    }
   ],
   "source": [
    "obj=child()\n",
    "print(obj.hello())\n"
   ]
  },
  {
   "cell_type": "code",
   "execution_count": 33,
   "id": "c2401714-7b78-4acf-90f3-ab8ac090a22d",
   "metadata": {},
   "outputs": [],
   "source": [
    "#multiple inheritance\n",
    "class A:\n",
    "    def hello1(self):\n",
    "        print(\"hello1\")\n",
    "              \n",
    "class B:\n",
    "    def hello2(self):\n",
    "              print(\"hello2\")\n",
    "class C(A,B):\n",
    "    pass\n",
    "        "
   ]
  },
  {
   "cell_type": "code",
   "execution_count": 34,
   "id": "05b33f16-f52a-4659-922c-eaacdb6a26b4",
   "metadata": {},
   "outputs": [
    {
     "name": "stdout",
     "output_type": "stream",
     "text": [
      "hello1\n"
     ]
    }
   ],
   "source": [
    "obj=C()\n",
    "obj.hello1()"
   ]
  },
  {
   "cell_type": "code",
   "execution_count": 35,
   "id": "439c7105-681b-4b6f-a3a5-bb7d1b11a056",
   "metadata": {},
   "outputs": [
    {
     "name": "stdout",
     "output_type": "stream",
     "text": [
      "hello2\n"
     ]
    }
   ],
   "source": [
    "obj.hello2()"
   ]
  },
  {
   "cell_type": "code",
   "execution_count": 36,
   "id": "ebaa6200-4acb-4b39-82bf-e0d4aa743468",
   "metadata": {},
   "outputs": [],
   "source": [
    "#mutilevel inheritance\n",
    "class A:\n",
    "    def fun(self):\n",
    "        print(\"coding is fun\")\n",
    "class B(A):\n",
    "    def fun1(self):\n",
    "        print(\"coding is fun1\")\n",
    "class C(B):\n",
    "    def fun2(self):\n",
    "        print(\"coding is fun2\")\n",
    "        "
   ]
  },
  {
   "cell_type": "code",
   "execution_count": 37,
   "id": "4d216c95-10dc-4fa1-a966-ece45304be2f",
   "metadata": {},
   "outputs": [
    {
     "name": "stdout",
     "output_type": "stream",
     "text": [
      "coding is fun\n"
     ]
    }
   ],
   "source": [
    "obj=C()\n",
    "obj.fun()"
   ]
  },
  {
   "cell_type": "code",
   "execution_count": 38,
   "id": "675a1e01-e8e7-42f5-aa4f-ef938d0cba3c",
   "metadata": {},
   "outputs": [
    {
     "name": "stdout",
     "output_type": "stream",
     "text": [
      "coding is fun1\n"
     ]
    }
   ],
   "source": [
    "obj.fun1()"
   ]
  },
  {
   "cell_type": "code",
   "execution_count": 39,
   "id": "a1437d65-3445-4c21-957b-49be6c6ddaad",
   "metadata": {},
   "outputs": [
    {
     "name": "stdout",
     "output_type": "stream",
     "text": [
      "coding is fun2\n"
     ]
    }
   ],
   "source": [
    "obj.fun2()"
   ]
  },
  {
   "cell_type": "code",
   "execution_count": 40,
   "id": "ebc6e12b-2959-4e30-bfea-524cab1a4a05",
   "metadata": {},
   "outputs": [
    {
     "name": "stdout",
     "output_type": "stream",
     "text": [
      "coding is fun\n"
     ]
    }
   ],
   "source": [
    "obj=B()\n",
    "obj.fun()"
   ]
  },
  {
   "cell_type": "code",
   "execution_count": 41,
   "id": "5e3b66ba-a8a0-4f96-8962-32dee59e1a96",
   "metadata": {},
   "outputs": [
    {
     "name": "stdout",
     "output_type": "stream",
     "text": [
      "coding is fun1\n"
     ]
    }
   ],
   "source": [
    "obj.fun1()"
   ]
  },
  {
   "cell_type": "code",
   "execution_count": 45,
   "id": "59b6caac-5460-4f1a-91d0-c08221eeb589",
   "metadata": {},
   "outputs": [],
   "source": [
    "#heirarhical inheritance\n",
    "class parent:\n",
    "    def parent_1(self):\n",
    "        print(\"I miss you mom and dad\")\n",
    "class child_1(parent):\n",
    "    def son_1(self):\n",
    "        pass\n",
    "class child_2(parent):\n",
    "    def son_2(self):\n",
    "        pass"
   ]
  },
  {
   "cell_type": "code",
   "execution_count": 46,
   "id": "146312fa-2d15-4d69-8125-39ea7fe88992",
   "metadata": {},
   "outputs": [
    {
     "name": "stdout",
     "output_type": "stream",
     "text": [
      "I miss you mom and dad\n"
     ]
    }
   ],
   "source": [
    "obj1=child_1()\n",
    "obj1.parent_1()"
   ]
  },
  {
   "cell_type": "code",
   "execution_count": 47,
   "id": "2599f8fe-e4eb-4192-b145-f5ce5dc5892d",
   "metadata": {},
   "outputs": [
    {
     "name": "stdout",
     "output_type": "stream",
     "text": [
      "I miss you mom and dad\n"
     ]
    }
   ],
   "source": [
    "obj2=child_2()\n",
    "obj2.parent_1()"
   ]
  },
  {
   "cell_type": "code",
   "execution_count": null,
   "id": "32081386-e1d7-4257-a172-f6d14bd1c719",
   "metadata": {},
   "outputs": [],
   "source": []
  },
  {
   "cell_type": "code",
   "execution_count": null,
   "id": "7cea244d-7119-4cc6-a1e9-f7fe91961763",
   "metadata": {},
   "outputs": [],
   "source": []
  }
 ],
 "metadata": {
  "kernelspec": {
   "display_name": "Python 3 (ipykernel)",
   "language": "python",
   "name": "python3"
  },
  "language_info": {
   "codemirror_mode": {
    "name": "ipython",
    "version": 3
   },
   "file_extension": ".py",
   "mimetype": "text/x-python",
   "name": "python",
   "nbconvert_exporter": "python",
   "pygments_lexer": "ipython3",
   "version": "3.10.8"
  }
 },
 "nbformat": 4,
 "nbformat_minor": 5
}
